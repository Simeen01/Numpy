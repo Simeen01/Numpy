{
  "nbformat": 4,
  "nbformat_minor": 0,
  "metadata": {
    "colab": {
      "name": "Numpy.ipynb",
      "provenance": [],
      "authorship_tag": "ABX9TyNI7DiL64HyfE6FUopiocSr",
      "include_colab_link": true
    },
    "kernelspec": {
      "name": "python3",
      "display_name": "Python 3"
    },
    "language_info": {
      "name": "python"
    }
  },
  "cells": [
    {
      "cell_type": "markdown",
      "metadata": {
        "id": "view-in-github",
        "colab_type": "text"
      },
      "source": [
        "<a href=\"https://colab.research.google.com/github/Simeen01/Numpy/blob/main/Numpy.ipynb\" target=\"_parent\"><img src=\"https://colab.research.google.com/assets/colab-badge.svg\" alt=\"Open In Colab\"/></a>"
      ]
    },
    {
      "cell_type": "markdown",
      "source": [
        "\n",
        "```\n",
        "Numpy\n",
        "Pandas\n",
        "Data Cleaning, Data processing - ETL\n",
        "Regression models\n",
        "Classification\n",
        "Deep Learning\n",
        "```\n",
        "\n"
      ],
      "metadata": {
        "id": "DQibLAY5bYhc"
      }
    },
    {
      "cell_type": "markdown",
      "source": [
        "```\n",
        "Machine Learning\n",
        "1. Regression - continous variable (predict output with input given)\n",
        "2. Classification - using output, predicting other outputs\n",
        "\n",
        "#industry - 80% classification based\n",
        "#47 algorithms\n",
        "\n",
        "ML Algo:\n",
        "1. Supervised - regression, classification\n",
        "2. Unsupervised - clustering, Kmeans, KNN\n",
        "3. Reinforcement - Deep learning, NLP\n",
        "```\n",
        "\n"
      ],
      "metadata": {
        "id": "2mjiVvqFcqOC"
      }
    },
    {
      "cell_type": "markdown",
      "source": [
        "Numpy\n",
        "\n",
        "\n",
        "*   Scientific computing library\n",
        "*   Multidimentional array, matrix, linear\n",
        "*   Converts image into array to read images\n",
        "*   File formats - .csv , .tsv\n",
        "*   \n",
        "\n",
        "\n",
        "\n",
        "\n"
      ],
      "metadata": {
        "id": "TRwEKr6sl486"
      }
    },
    {
      "cell_type": "code",
      "execution_count": null,
      "metadata": {
        "id": "3jhY5bkAYlkf"
      },
      "outputs": [],
      "source": [
        "import numpy as np"
      ]
    },
    {
      "cell_type": "code",
      "source": [
        "a = np.array([[1,2,3],[4,5,6],[7,8,9]])\n",
        "a"
      ],
      "metadata": {
        "colab": {
          "base_uri": "https://localhost:8080/"
        },
        "id": "VYuU98OHnRfp",
        "outputId": "c1ebb083-cabd-4f01-d4da-c82163576737"
      },
      "execution_count": null,
      "outputs": [
        {
          "output_type": "execute_result",
          "data": {
            "text/plain": [
              "array([[1, 2, 3],\n",
              "       [4, 5, 6],\n",
              "       [7, 8, 9]])"
            ]
          },
          "metadata": {},
          "execution_count": 4
        }
      ]
    },
    {
      "cell_type": "code",
      "source": [
        "a.ndim"
      ],
      "metadata": {
        "colab": {
          "base_uri": "https://localhost:8080/"
        },
        "id": "d09_McP7ngRL",
        "outputId": "9087329b-9afb-4b95-e354-cc2c757ca1ba"
      },
      "execution_count": null,
      "outputs": [
        {
          "output_type": "execute_result",
          "data": {
            "text/plain": [
              "2"
            ]
          },
          "metadata": {},
          "execution_count": 5
        }
      ]
    },
    {
      "cell_type": "code",
      "source": [
        "a.size"
      ],
      "metadata": {
        "colab": {
          "base_uri": "https://localhost:8080/"
        },
        "id": "nOgSA06bnoik",
        "outputId": "41aa7fc4-bad4-4ff2-9c6f-67d5888c47eb"
      },
      "execution_count": null,
      "outputs": [
        {
          "output_type": "execute_result",
          "data": {
            "text/plain": [
              "9"
            ]
          },
          "metadata": {},
          "execution_count": 6
        }
      ]
    },
    {
      "cell_type": "code",
      "source": [
        "a.shape\n",
        "# 3D layers, rows, cols\n",
        "# 2D rows, cols\n",
        "# 1D cols"
      ],
      "metadata": {
        "colab": {
          "base_uri": "https://localhost:8080/"
        },
        "id": "nHJQx8_Znqr2",
        "outputId": "639ed896-3ba7-42ca-9d86-075adb39cd99"
      },
      "execution_count": null,
      "outputs": [
        {
          "output_type": "execute_result",
          "data": {
            "text/plain": [
              "(3, 3)"
            ]
          },
          "metadata": {},
          "execution_count": 7
        }
      ]
    },
    {
      "cell_type": "code",
      "source": [
        "b = np.arange(1,10).reshape(3,3)\n",
        "b"
      ],
      "metadata": {
        "colab": {
          "base_uri": "https://localhost:8080/"
        },
        "id": "AVkTPwoYn1G-",
        "outputId": "82596c44-2e40-460f-c6c2-960510a14b80"
      },
      "execution_count": null,
      "outputs": [
        {
          "output_type": "execute_result",
          "data": {
            "text/plain": [
              "array([[1, 2, 3],\n",
              "       [4, 5, 6],\n",
              "       [7, 8, 9]])"
            ]
          },
          "metadata": {},
          "execution_count": 8
        }
      ]
    },
    {
      "cell_type": "code",
      "source": [
        "c = np.ones((3,3), dtype = int)\n",
        "c"
      ],
      "metadata": {
        "colab": {
          "base_uri": "https://localhost:8080/"
        },
        "id": "sE_ckU1so08b",
        "outputId": "69ab433c-0594-473f-c89f-315a96197185"
      },
      "execution_count": null,
      "outputs": [
        {
          "output_type": "execute_result",
          "data": {
            "text/plain": [
              "array([[1, 1, 1],\n",
              "       [1, 1, 1],\n",
              "       [1, 1, 1]])"
            ]
          },
          "metadata": {},
          "execution_count": 9
        }
      ]
    },
    {
      "cell_type": "code",
      "source": [
        "c = np.zeros((3,3), dtype = int)\n",
        "c"
      ],
      "metadata": {
        "colab": {
          "base_uri": "https://localhost:8080/"
        },
        "id": "SsARD0h7phjB",
        "outputId": "2885291d-14ad-4638-e5df-9cf7cd137cb9"
      },
      "execution_count": null,
      "outputs": [
        {
          "output_type": "execute_result",
          "data": {
            "text/plain": [
              "array([[0, 0, 0],\n",
              "       [0, 0, 0],\n",
              "       [0, 0, 0]])"
            ]
          },
          "metadata": {},
          "execution_count": 10
        }
      ]
    },
    {
      "cell_type": "code",
      "source": [
        "d = np.empty((3,3), dtype = int)\n",
        "d"
      ],
      "metadata": {
        "colab": {
          "base_uri": "https://localhost:8080/"
        },
        "id": "y8vmWeHQqYMu",
        "outputId": "d94c3a6f-4e27-4583-9c8e-e71ac3c1d6e9"
      },
      "execution_count": null,
      "outputs": [
        {
          "output_type": "execute_result",
          "data": {
            "text/plain": [
              "array([[94861262146256,              0,              0],\n",
              "       [             0,              0,              0],\n",
              "       [             0,              0,              0]])"
            ]
          },
          "metadata": {},
          "execution_count": 11
        }
      ]
    },
    {
      "cell_type": "code",
      "source": [
        "LineSpace = np.linspace(1,20,10, retstep=True)\n",
        "LineSpace"
      ],
      "metadata": {
        "colab": {
          "base_uri": "https://localhost:8080/"
        },
        "id": "1d_5XbACq2kR",
        "outputId": "38d14a73-4987-4018-8901-93de324f67bf"
      },
      "execution_count": null,
      "outputs": [
        {
          "output_type": "execute_result",
          "data": {
            "text/plain": [
              "(array([ 1.        ,  3.11111111,  5.22222222,  7.33333333,  9.44444444,\n",
              "        11.55555556, 13.66666667, 15.77777778, 17.88888889, 20.        ]),\n",
              " 2.111111111111111)"
            ]
          },
          "metadata": {},
          "execution_count": 12
        }
      ]
    },
    {
      "cell_type": "markdown",
      "source": [
        "Slicing"
      ],
      "metadata": {
        "id": "Ls3PNKQrsimu"
      }
    },
    {
      "cell_type": "code",
      "source": [
        "a1 = np.arange(1,26).reshape(5,5)\n",
        "a1"
      ],
      "metadata": {
        "colab": {
          "base_uri": "https://localhost:8080/"
        },
        "id": "kPslHZO1r0DE",
        "outputId": "dad7dd61-f3e2-4859-e700-a83f70b1bb0a"
      },
      "execution_count": null,
      "outputs": [
        {
          "output_type": "execute_result",
          "data": {
            "text/plain": [
              "array([[ 1,  2,  3,  4,  5],\n",
              "       [ 6,  7,  8,  9, 10],\n",
              "       [11, 12, 13, 14, 15],\n",
              "       [16, 17, 18, 19, 20],\n",
              "       [21, 22, 23, 24, 25]])"
            ]
          },
          "metadata": {},
          "execution_count": 13
        }
      ]
    },
    {
      "cell_type": "code",
      "source": [
        "a1[0:2,0:6]"
      ],
      "metadata": {
        "colab": {
          "base_uri": "https://localhost:8080/"
        },
        "id": "r69qXB_KstVT",
        "outputId": "6159e6c7-07fe-485a-8ee4-3d568da32f55"
      },
      "execution_count": null,
      "outputs": [
        {
          "output_type": "execute_result",
          "data": {
            "text/plain": [
              "array([[ 1,  2,  3,  4,  5],\n",
              "       [ 6,  7,  8,  9, 10]])"
            ]
          },
          "metadata": {},
          "execution_count": 14
        }
      ]
    },
    {
      "cell_type": "code",
      "source": [
        "a1[1:2,1:4:2] #[r,c]"
      ],
      "metadata": {
        "colab": {
          "base_uri": "https://localhost:8080/"
        },
        "id": "960y46AUs2oF",
        "outputId": "a6357652-cead-4708-a5a2-e7f5860bd602"
      },
      "execution_count": null,
      "outputs": [
        {
          "output_type": "execute_result",
          "data": {
            "text/plain": [
              "array([[7, 9]])"
            ]
          },
          "metadata": {},
          "execution_count": 15
        }
      ]
    },
    {
      "cell_type": "code",
      "source": [
        "a1[3:4,::2]"
      ],
      "metadata": {
        "id": "im8x-M3vtDHr",
        "colab": {
          "base_uri": "https://localhost:8080/"
        },
        "outputId": "2203253e-bc5d-4d1e-c092-c6252f39a803"
      },
      "execution_count": null,
      "outputs": [
        {
          "output_type": "execute_result",
          "data": {
            "text/plain": [
              "array([[16, 18, 20]])"
            ]
          },
          "metadata": {},
          "execution_count": 16
        }
      ]
    },
    {
      "cell_type": "code",
      "source": [
        "a2 = np.arange(49,98).reshape(7,7)\n",
        "a2"
      ],
      "metadata": {
        "colab": {
          "base_uri": "https://localhost:8080/"
        },
        "id": "U3HBX4Ar0i7u",
        "outputId": "d646c5eb-e95d-41f7-b15e-81ffccf5d164"
      },
      "execution_count": null,
      "outputs": [
        {
          "output_type": "execute_result",
          "data": {
            "text/plain": [
              "array([[49, 50, 51, 52, 53, 54, 55],\n",
              "       [56, 57, 58, 59, 60, 61, 62],\n",
              "       [63, 64, 65, 66, 67, 68, 69],\n",
              "       [70, 71, 72, 73, 74, 75, 76],\n",
              "       [77, 78, 79, 80, 81, 82, 83],\n",
              "       [84, 85, 86, 87, 88, 89, 90],\n",
              "       [91, 92, 93, 94, 95, 96, 97]])"
            ]
          },
          "metadata": {},
          "execution_count": 17
        }
      ]
    },
    {
      "cell_type": "code",
      "source": [
        "#49 55\n",
        "#91 97\n",
        "\n",
        "a2[0::6,0::6]"
      ],
      "metadata": {
        "colab": {
          "base_uri": "https://localhost:8080/"
        },
        "id": "c6S41BnC4bJ-",
        "outputId": "47f056d1-5ead-40eb-d515-919ea9b37f82"
      },
      "execution_count": null,
      "outputs": [
        {
          "output_type": "execute_result",
          "data": {
            "text/plain": [
              "array([[49, 55],\n",
              "       [91, 97]])"
            ]
          },
          "metadata": {},
          "execution_count": 93
        }
      ]
    },
    {
      "cell_type": "code",
      "source": [
        "a2[3:3]"
      ],
      "metadata": {
        "colab": {
          "base_uri": "https://localhost:8080/"
        },
        "id": "DxURzGJk6rB-",
        "outputId": "9888a1d1-5381-4246-a074-3994e176b487"
      },
      "execution_count": null,
      "outputs": [
        {
          "output_type": "execute_result",
          "data": {
            "text/plain": [
              "array([], shape=(0, 7), dtype=int64)"
            ]
          },
          "metadata": {},
          "execution_count": 96
        }
      ]
    },
    {
      "cell_type": "code",
      "source": [
        "#56 58 60 62\n",
        "#77 79 81 83\n",
        "\n",
        "a2[1::3,::2]"
      ],
      "metadata": {
        "colab": {
          "base_uri": "https://localhost:8080/"
        },
        "id": "tQcdnPGK0x9E",
        "outputId": "51c0aa5f-49e9-41b2-be68-c7f47e9a36a2"
      },
      "execution_count": null,
      "outputs": [
        {
          "output_type": "execute_result",
          "data": {
            "text/plain": [
              "array([[56, 58, 60, 62],\n",
              "       [77, 79, 81, 83]])"
            ]
          },
          "metadata": {},
          "execution_count": 22
        }
      ]
    },
    {
      "cell_type": "code",
      "source": [
        "#70 73 76\n",
        "#91 94 97\n",
        "\n",
        "a2[3:7:3,::3]"
      ],
      "metadata": {
        "colab": {
          "base_uri": "https://localhost:8080/"
        },
        "id": "wVVRAdsj1GTd",
        "outputId": "32aeee04-0aff-43e2-bcb4-a8d60cc8f256"
      },
      "execution_count": null,
      "outputs": [
        {
          "output_type": "execute_result",
          "data": {
            "text/plain": [
              "array([[70, 73, 76],\n",
              "       [91, 94, 97]])"
            ]
          },
          "metadata": {},
          "execution_count": 66
        }
      ]
    },
    {
      "cell_type": "code",
      "source": [
        "#81 83\n",
        "#95 97\n",
        "\n",
        "a2[4:7:2,-3::2]"
      ],
      "metadata": {
        "colab": {
          "base_uri": "https://localhost:8080/"
        },
        "id": "0h9bxYEO3-cb",
        "outputId": "87fae6e6-ed8b-4caf-eced-00937f51a70d"
      },
      "execution_count": null,
      "outputs": [
        {
          "output_type": "execute_result",
          "data": {
            "text/plain": [
              "array([[81, 83],\n",
              "       [95, 97]])"
            ]
          },
          "metadata": {},
          "execution_count": 75
        }
      ]
    },
    {
      "cell_type": "code",
      "source": [
        "#82 83\n",
        "#89 90\n",
        "\n",
        "a2[4:6,-2::]"
      ],
      "metadata": {
        "colab": {
          "base_uri": "https://localhost:8080/"
        },
        "id": "4yERkTq8179O",
        "outputId": "1bf8708f-c575-4db4-8af9-d58125433020"
      },
      "execution_count": null,
      "outputs": [
        {
          "output_type": "execute_result",
          "data": {
            "text/plain": [
              "array([[82, 83],\n",
              "       [89, 90]])"
            ]
          },
          "metadata": {},
          "execution_count": 62
        }
      ]
    },
    {
      "cell_type": "code",
      "source": [
        "#converts any dimension to 1D\n",
        "h = a2.flatten() #original array with no update\n",
        "h"
      ],
      "metadata": {
        "colab": {
          "base_uri": "https://localhost:8080/"
        },
        "id": "N5o7mIjO8cee",
        "outputId": "9887c418-5e0e-4162-c67c-7de930a5fedd"
      },
      "execution_count": null,
      "outputs": [
        {
          "output_type": "execute_result",
          "data": {
            "text/plain": [
              "array([49, 50, 51, 52, 53, 54, 55, 56, 57, 58, 59, 60, 61, 62, 63, 64, 65,\n",
              "       66, 67, 68, 69, 70, 71, 72, 73, 74, 75, 76, 77, 78, 79, 80, 81, 82,\n",
              "       83, 84, 85, 86, 87, 88, 89, 90, 91, 92, 93, 94, 95, 96, 97])"
            ]
          },
          "metadata": {},
          "execution_count": 98
        }
      ]
    },
    {
      "cell_type": "code",
      "source": [
        "#converts any dimension to 1D\n",
        "f = a2.ravel() #updated array\n",
        "f"
      ],
      "metadata": {
        "colab": {
          "base_uri": "https://localhost:8080/"
        },
        "id": "fUy9p13q8jgY",
        "outputId": "51698453-9cd0-43ce-c28e-48a246332ec6"
      },
      "execution_count": null,
      "outputs": [
        {
          "output_type": "execute_result",
          "data": {
            "text/plain": [
              "array([49, 50, 51, 52, 53, 54, 55, 56, 57, 58, 59, 60, 61, 62, 63, 64, 65,\n",
              "       66, 67, 68, 69, 70, 71, 72, 73, 74, 75, 76, 77, 78, 79, 80, 81, 82,\n",
              "       83, 84, 85, 86, 87, 88, 89, 90, 91, 92, 93, 94, 95, 96, 97])"
            ]
          },
          "metadata": {},
          "execution_count": 99
        }
      ]
    },
    {
      "cell_type": "code",
      "source": [
        "#Transpose\n",
        "a2.T"
      ],
      "metadata": {
        "colab": {
          "base_uri": "https://localhost:8080/"
        },
        "id": "0lMlieAX8sa4",
        "outputId": "3de4a37a-0276-4e4e-cded-eedba536724b"
      },
      "execution_count": null,
      "outputs": [
        {
          "output_type": "execute_result",
          "data": {
            "text/plain": [
              "array([[49, 56, 63, 70, 77, 84, 91],\n",
              "       [50, 57, 64, 71, 78, 85, 92],\n",
              "       [51, 58, 65, 72, 79, 86, 93],\n",
              "       [52, 59, 66, 73, 80, 87, 94],\n",
              "       [53, 60, 67, 74, 81, 88, 95],\n",
              "       [54, 61, 68, 75, 82, 89, 96],\n",
              "       [55, 62, 69, 76, 83, 90, 97]])"
            ]
          },
          "metadata": {},
          "execution_count": 100
        }
      ]
    },
    {
      "cell_type": "code",
      "source": [
        "a4 = np.arange(1,28).reshape(3,3,3)\n",
        "a4"
      ],
      "metadata": {
        "colab": {
          "base_uri": "https://localhost:8080/"
        },
        "id": "DsGl_uzA9UTn",
        "outputId": "d6fb7436-2b2b-43a6-be14-6e9fa68728b5"
      },
      "execution_count": null,
      "outputs": [
        {
          "output_type": "execute_result",
          "data": {
            "text/plain": [
              "array([[[ 1,  2,  3],\n",
              "        [ 4,  5,  6],\n",
              "        [ 7,  8,  9]],\n",
              "\n",
              "       [[10, 11, 12],\n",
              "        [13, 14, 15],\n",
              "        [16, 17, 18]],\n",
              "\n",
              "       [[19, 20, 21],\n",
              "        [22, 23, 24],\n",
              "        [25, 26, 27]]])"
            ]
          },
          "metadata": {},
          "execution_count": 101
        }
      ]
    },
    {
      "cell_type": "code",
      "source": [
        "a4.T"
      ],
      "metadata": {
        "colab": {
          "base_uri": "https://localhost:8080/"
        },
        "id": "AVUvQq_U9r_d",
        "outputId": "2b062559-0ec2-4349-bd6b-1a5161e7d87b"
      },
      "execution_count": null,
      "outputs": [
        {
          "output_type": "execute_result",
          "data": {
            "text/plain": [
              "array([[[ 1, 10, 19],\n",
              "        [ 4, 13, 22],\n",
              "        [ 7, 16, 25]],\n",
              "\n",
              "       [[ 2, 11, 20],\n",
              "        [ 5, 14, 23],\n",
              "        [ 8, 17, 26]],\n",
              "\n",
              "       [[ 3, 12, 21],\n",
              "        [ 6, 15, 24],\n",
              "        [ 9, 18, 27]]])"
            ]
          },
          "metadata": {},
          "execution_count": 102
        }
      ]
    },
    {
      "cell_type": "code",
      "source": [
        "np.multiply(a1,a2)"
      ],
      "metadata": {
        "colab": {
          "base_uri": "https://localhost:8080/",
          "height": 166
        },
        "id": "nzQxZZJQ9tt1",
        "outputId": "11d87e18-8f94-438d-9be5-6db345f9cf4f"
      },
      "execution_count": null,
      "outputs": [
        {
          "output_type": "error",
          "ename": "ValueError",
          "evalue": "ignored",
          "traceback": [
            "\u001b[0;31m---------------------------------------------------------------------------\u001b[0m",
            "\u001b[0;31mValueError\u001b[0m                                Traceback (most recent call last)",
            "\u001b[0;32m<ipython-input-103-9f1e4455181c>\u001b[0m in \u001b[0;36m<module>\u001b[0;34m()\u001b[0m\n\u001b[0;32m----> 1\u001b[0;31m \u001b[0mnp\u001b[0m\u001b[0;34m.\u001b[0m\u001b[0mmultiply\u001b[0m\u001b[0;34m(\u001b[0m\u001b[0ma1\u001b[0m\u001b[0;34m,\u001b[0m\u001b[0ma2\u001b[0m\u001b[0;34m)\u001b[0m\u001b[0;34m\u001b[0m\u001b[0;34m\u001b[0m\u001b[0m\n\u001b[0m",
            "\u001b[0;31mValueError\u001b[0m: operands could not be broadcast together with shapes (5,5) (7,7) "
          ]
        }
      ]
    },
    {
      "cell_type": "code",
      "source": [
        "a1.dot(a2)"
      ],
      "metadata": {
        "colab": {
          "base_uri": "https://localhost:8080/",
          "height": 166
        },
        "id": "EN6Fqzoo-ItJ",
        "outputId": "4fb2f64b-78a1-4e43-f15b-a5996f26a147"
      },
      "execution_count": null,
      "outputs": [
        {
          "output_type": "error",
          "ename": "ValueError",
          "evalue": "ignored",
          "traceback": [
            "\u001b[0;31m---------------------------------------------------------------------------\u001b[0m",
            "\u001b[0;31mValueError\u001b[0m                                Traceback (most recent call last)",
            "\u001b[0;32m<ipython-input-104-c9be44bd6641>\u001b[0m in \u001b[0;36m<module>\u001b[0;34m()\u001b[0m\n\u001b[0;32m----> 1\u001b[0;31m \u001b[0ma1\u001b[0m\u001b[0;34m.\u001b[0m\u001b[0mdot\u001b[0m\u001b[0;34m(\u001b[0m\u001b[0ma2\u001b[0m\u001b[0;34m)\u001b[0m\u001b[0;34m\u001b[0m\u001b[0;34m\u001b[0m\u001b[0m\n\u001b[0m",
            "\u001b[0;31mValueError\u001b[0m: shapes (5,5) and (7,7) not aligned: 5 (dim 1) != 7 (dim 0)"
          ]
        }
      ]
    },
    {
      "cell_type": "code",
      "source": [
        "a2.max()"
      ],
      "metadata": {
        "colab": {
          "base_uri": "https://localhost:8080/"
        },
        "id": "oHZtZxsi-NsK",
        "outputId": "4c541730-15c8-4bb7-e737-9b65f554c24a"
      },
      "execution_count": null,
      "outputs": [
        {
          "output_type": "execute_result",
          "data": {
            "text/plain": [
              "97"
            ]
          },
          "metadata": {},
          "execution_count": 105
        }
      ]
    },
    {
      "cell_type": "code",
      "source": [
        "a2.argmax() #index of max"
      ],
      "metadata": {
        "colab": {
          "base_uri": "https://localhost:8080/"
        },
        "id": "TpF8TNk--Rlg",
        "outputId": "bf616922-2bce-4136-e2d5-b9adaaddca5b"
      },
      "execution_count": null,
      "outputs": [
        {
          "output_type": "execute_result",
          "data": {
            "text/plain": [
              "48"
            ]
          },
          "metadata": {},
          "execution_count": 106
        }
      ]
    },
    {
      "cell_type": "code",
      "source": [
        "a1.mean()"
      ],
      "metadata": {
        "colab": {
          "base_uri": "https://localhost:8080/"
        },
        "id": "5IusIv_Q-YAG",
        "outputId": "35eb08f2-9b41-4e2f-fdfe-7f11b6694603"
      },
      "execution_count": null,
      "outputs": [
        {
          "output_type": "execute_result",
          "data": {
            "text/plain": [
              "13.0"
            ]
          },
          "metadata": {},
          "execution_count": 107
        }
      ]
    },
    {
      "cell_type": "code",
      "source": [
        "np.square(a1)"
      ],
      "metadata": {
        "colab": {
          "base_uri": "https://localhost:8080/"
        },
        "id": "e5C1Lf2Z-Z-j",
        "outputId": "7d668dd7-0177-41c5-a5ef-2128bb1bf3ac"
      },
      "execution_count": null,
      "outputs": [
        {
          "output_type": "execute_result",
          "data": {
            "text/plain": [
              "array([[  1,   4,   9,  16,  25],\n",
              "       [ 36,  49,  64,  81, 100],\n",
              "       [121, 144, 169, 196, 225],\n",
              "       [256, 289, 324, 361, 400],\n",
              "       [441, 484, 529, 576, 625]])"
            ]
          },
          "metadata": {},
          "execution_count": 108
        }
      ]
    },
    {
      "cell_type": "code",
      "source": [
        "np.sqrt(a1)"
      ],
      "metadata": {
        "colab": {
          "base_uri": "https://localhost:8080/"
        },
        "id": "G2Oqwl9b-d90",
        "outputId": "bb2a410a-18b9-445b-af60-152a262f2564"
      },
      "execution_count": null,
      "outputs": [
        {
          "output_type": "execute_result",
          "data": {
            "text/plain": [
              "array([[1.        , 1.41421356, 1.73205081, 2.        , 2.23606798],\n",
              "       [2.44948974, 2.64575131, 2.82842712, 3.        , 3.16227766],\n",
              "       [3.31662479, 3.46410162, 3.60555128, 3.74165739, 3.87298335],\n",
              "       [4.        , 4.12310563, 4.24264069, 4.35889894, 4.47213595],\n",
              "       [4.58257569, 4.69041576, 4.79583152, 4.89897949, 5.        ]])"
            ]
          },
          "metadata": {},
          "execution_count": 110
        }
      ]
    },
    {
      "cell_type": "code",
      "source": [
        "np.std(a1)"
      ],
      "metadata": {
        "colab": {
          "base_uri": "https://localhost:8080/"
        },
        "id": "OPn5WWWN-iSU",
        "outputId": "c1976c20-070c-4d8c-eee2-5656e7a24127"
      },
      "execution_count": null,
      "outputs": [
        {
          "output_type": "execute_result",
          "data": {
            "text/plain": [
              "7.211102550927978"
            ]
          },
          "metadata": {},
          "execution_count": 111
        }
      ]
    },
    {
      "cell_type": "code",
      "source": [
        "np.exp(a1)"
      ],
      "metadata": {
        "colab": {
          "base_uri": "https://localhost:8080/"
        },
        "id": "uBSsJexJ-l9E",
        "outputId": "3b9b3885-f334-4f52-e417-f1bd8ac2c046"
      },
      "execution_count": null,
      "outputs": [
        {
          "output_type": "execute_result",
          "data": {
            "text/plain": [
              "array([[2.71828183e+00, 7.38905610e+00, 2.00855369e+01, 5.45981500e+01,\n",
              "        1.48413159e+02],\n",
              "       [4.03428793e+02, 1.09663316e+03, 2.98095799e+03, 8.10308393e+03,\n",
              "        2.20264658e+04],\n",
              "       [5.98741417e+04, 1.62754791e+05, 4.42413392e+05, 1.20260428e+06,\n",
              "        3.26901737e+06],\n",
              "       [8.88611052e+06, 2.41549528e+07, 6.56599691e+07, 1.78482301e+08,\n",
              "        4.85165195e+08],\n",
              "       [1.31881573e+09, 3.58491285e+09, 9.74480345e+09, 2.64891221e+10,\n",
              "        7.20048993e+10]])"
            ]
          },
          "metadata": {},
          "execution_count": 112
        }
      ]
    },
    {
      "cell_type": "code",
      "source": [
        "np.sin(0)"
      ],
      "metadata": {
        "colab": {
          "base_uri": "https://localhost:8080/"
        },
        "id": "ABetvwGM-nnM",
        "outputId": "860b6e4a-f303-434d-bfed-a99e43f9e8d3"
      },
      "execution_count": null,
      "outputs": [
        {
          "output_type": "execute_result",
          "data": {
            "text/plain": [
              "0.0"
            ]
          },
          "metadata": {},
          "execution_count": 113
        }
      ]
    },
    {
      "cell_type": "code",
      "source": [
        "np.cos(0)"
      ],
      "metadata": {
        "colab": {
          "base_uri": "https://localhost:8080/"
        },
        "id": "IY45weVo-q8I",
        "outputId": "6987b192-9fb5-4b04-cf61-49a9238fef25"
      },
      "execution_count": null,
      "outputs": [
        {
          "output_type": "execute_result",
          "data": {
            "text/plain": [
              "1.0"
            ]
          },
          "metadata": {},
          "execution_count": 114
        }
      ]
    },
    {
      "cell_type": "code",
      "source": [
        "np.tan(0)"
      ],
      "metadata": {
        "colab": {
          "base_uri": "https://localhost:8080/"
        },
        "id": "2fCB0wJ0-tBI",
        "outputId": "8e66a584-6cdd-4a4b-c1a4-cd241ff169e7"
      },
      "execution_count": null,
      "outputs": [
        {
          "output_type": "execute_result",
          "data": {
            "text/plain": [
              "0.0"
            ]
          },
          "metadata": {},
          "execution_count": 116
        }
      ]
    },
    {
      "cell_type": "code",
      "source": [
        "np.log(a1)"
      ],
      "metadata": {
        "colab": {
          "base_uri": "https://localhost:8080/"
        },
        "id": "Gb_2AMOJ-uBT",
        "outputId": "d81e463d-3aed-45c3-d088-528e4a1f70b0"
      },
      "execution_count": null,
      "outputs": [
        {
          "output_type": "execute_result",
          "data": {
            "text/plain": [
              "array([[0.        , 0.69314718, 1.09861229, 1.38629436, 1.60943791],\n",
              "       [1.79175947, 1.94591015, 2.07944154, 2.19722458, 2.30258509],\n",
              "       [2.39789527, 2.48490665, 2.56494936, 2.63905733, 2.7080502 ],\n",
              "       [2.77258872, 2.83321334, 2.89037176, 2.94443898, 2.99573227],\n",
              "       [3.04452244, 3.09104245, 3.13549422, 3.17805383, 3.21887582]])"
            ]
          },
          "metadata": {},
          "execution_count": 117
        }
      ]
    },
    {
      "cell_type": "code",
      "source": [
        "np.log10(a1)"
      ],
      "metadata": {
        "colab": {
          "base_uri": "https://localhost:8080/"
        },
        "id": "ShC-Dqfp-xbv",
        "outputId": "9b0b22cf-35e6-4524-a878-6046dffcacd1"
      },
      "execution_count": null,
      "outputs": [
        {
          "output_type": "execute_result",
          "data": {
            "text/plain": [
              "array([[0.        , 0.30103   , 0.47712125, 0.60205999, 0.69897   ],\n",
              "       [0.77815125, 0.84509804, 0.90308999, 0.95424251, 1.        ],\n",
              "       [1.04139269, 1.07918125, 1.11394335, 1.14612804, 1.17609126],\n",
              "       [1.20411998, 1.23044892, 1.25527251, 1.2787536 , 1.30103   ],\n",
              "       [1.32221929, 1.34242268, 1.36172784, 1.38021124, 1.39794001]])"
            ]
          },
          "metadata": {},
          "execution_count": 118
        }
      ]
    },
    {
      "cell_type": "code",
      "source": [
        "#values from 0 - 0.9, if 0-1\n",
        "np.random.random((3,3))"
      ],
      "metadata": {
        "colab": {
          "base_uri": "https://localhost:8080/"
        },
        "id": "TOkAtODy-2AJ",
        "outputId": "02c08b30-68c7-416c-cfc8-a8c8dc8ce8de"
      },
      "execution_count": null,
      "outputs": [
        {
          "output_type": "execute_result",
          "data": {
            "text/plain": [
              "array([[0.93277554, 0.31872319, 0.50897794],\n",
              "       [0.7208611 , 0.31640855, 0.3449451 ],\n",
              "       [0.02074957, 0.17026735, 0.30824043]])"
            ]
          },
          "metadata": {},
          "execution_count": 121
        }
      ]
    },
    {
      "cell_type": "code",
      "source": [
        "np.random.randint(1,4,20)"
      ],
      "metadata": {
        "colab": {
          "base_uri": "https://localhost:8080/"
        },
        "id": "2czAGozQ_TQs",
        "outputId": "dc49f25b-a55c-4fb2-b9ec-c9383ddc0838"
      },
      "execution_count": null,
      "outputs": [
        {
          "output_type": "execute_result",
          "data": {
            "text/plain": [
              "array([1, 3, 3, 1, 3, 3, 3, 1, 3, 3, 1, 1, 1, 1, 2, 2, 1, 1, 1, 1])"
            ]
          },
          "metadata": {},
          "execution_count": 122
        }
      ]
    },
    {
      "cell_type": "code",
      "source": [
        "np.random.seed(10) #values wont change\n",
        "np.random.randint(1,4,(5,5))"
      ],
      "metadata": {
        "colab": {
          "base_uri": "https://localhost:8080/"
        },
        "id": "ZRZJfCgN_mEG",
        "outputId": "7670e65b-b752-489d-fe2c-d1b829aa0437"
      },
      "execution_count": null,
      "outputs": [
        {
          "output_type": "execute_result",
          "data": {
            "text/plain": [
              "array([[2, 2, 1, 1, 2],\n",
              "       [1, 2, 2, 1, 2],\n",
              "       [2, 3, 1, 2, 1],\n",
              "       [3, 1, 3, 1, 1],\n",
              "       [1, 3, 1, 3, 3]])"
            ]
          },
          "metadata": {},
          "execution_count": 133
        }
      ]
    },
    {
      "cell_type": "markdown",
      "source": [
        "Split function"
      ],
      "metadata": {
        "id": "PixxOlkQBGbd"
      }
    },
    {
      "cell_type": "code",
      "source": [
        "d = np.arange(1,17).reshape(4,4)\n",
        "d"
      ],
      "metadata": {
        "colab": {
          "base_uri": "https://localhost:8080/"
        },
        "id": "kARSm6wC_5Vn",
        "outputId": "f36b286d-d094-41ff-9a00-238475b91420"
      },
      "execution_count": null,
      "outputs": [
        {
          "output_type": "execute_result",
          "data": {
            "text/plain": [
              "array([[ 1,  2,  3,  4],\n",
              "       [ 5,  6,  7,  8],\n",
              "       [ 9, 10, 11, 12],\n",
              "       [13, 14, 15, 16]])"
            ]
          },
          "metadata": {},
          "execution_count": 134
        }
      ]
    },
    {
      "cell_type": "code",
      "source": [
        "np.split(d,2)  #type - list"
      ],
      "metadata": {
        "colab": {
          "base_uri": "https://localhost:8080/"
        },
        "id": "O7USnsjxAAgW",
        "outputId": "06d58f0a-a215-4a07-d74f-e1839b91276b"
      },
      "execution_count": null,
      "outputs": [
        {
          "output_type": "execute_result",
          "data": {
            "text/plain": [
              "[array([[1, 2, 3, 4],\n",
              "        [5, 6, 7, 8]]), array([[ 9, 10, 11, 12],\n",
              "        [13, 14, 15, 16]])]"
            ]
          },
          "metadata": {},
          "execution_count": 135
        }
      ]
    },
    {
      "cell_type": "code",
      "source": [
        "import numpy as np"
      ],
      "metadata": {
        "id": "wPi6DYPjBdPV"
      },
      "execution_count": null,
      "outputs": []
    },
    {
      "cell_type": "code",
      "source": [
        "# First 20 countries with employment data\n",
        "countries = np.array([\n",
        "    'Afghanistan', 'Albania', 'Algeria', 'Angola', 'Argentina',\n",
        "    'Armenia', 'Australia', 'Austria', 'Azerbaijan', 'Bahamas',\n",
        "    'Bahrain', 'Bangladesh', 'Barbados', 'Belarus', 'Belgium',\n",
        "    'Belize', 'Benin', 'Bhutan', 'Bolivia',\n",
        "    'Bosnia and Herzegovina'\n",
        "])\n",
        "\n",
        "# Employment data in 2007 for those 20 countries\n",
        "employment = np.array([\n",
        "    55.70000076,  51.40000153,  50.5       ,  75.69999695,\n",
        "    58.40000153,  40.09999847,  61.5       ,  57.09999847,\n",
        "    60.90000153,  66.59999847,  60.40000153,  68.09999847,\n",
        "    66.90000153,  53.40000153,  48.59999847,  56.79999924,\n",
        "    71.59999847,  58.40000153,  70.40000153,  41.20000076\n",
        "])\n",
        "\n",
        "def max_employment(countries, employment):\n",
        "    '''\n",
        "    Fill in this function to return the name of the country\n",
        "    with the highest employment in the given employment\n",
        "    data, and the employment in that country.\n",
        "    '''\n",
        "    max_ind = employment.argmax()\n",
        "    max_country = countries[max_ind]\n",
        "    max_value = employment[max_ind]\n",
        "\n",
        "    return (max_country, max_value)"
      ],
      "metadata": {
        "id": "63VIMNEXeoLR"
      },
      "execution_count": null,
      "outputs": []
    },
    {
      "cell_type": "code",
      "source": [
        "max_employment(countries,employment)"
      ],
      "metadata": {
        "colab": {
          "base_uri": "https://localhost:8080/"
        },
        "id": "yK0BD4Rqe06S",
        "outputId": "2f104d63-09a2-421e-f091-3e30c5d7d6bd"
      },
      "execution_count": null,
      "outputs": [
        {
          "output_type": "execute_result",
          "data": {
            "text/plain": [
              "('Angola', 75.69999695)"
            ]
          },
          "metadata": {},
          "execution_count": 3
        }
      ]
    },
    {
      "cell_type": "code",
      "source": [
        "# First 20 countries with school completion data\n",
        "countries = np.array([\n",
        "       'Algeria', 'Argentina', 'Armenia', 'Aruba', 'Austria','Azerbaijan',\n",
        "       'Bahamas', 'Barbados', 'Belarus', 'Belgium', 'Belize', 'Bolivia',\n",
        "       'Botswana', 'Brunei', 'Bulgaria', 'Burkina Faso', 'Burundi',\n",
        "       'Cambodia', 'Cameroon', 'Cape Verde'\n",
        "])\n",
        "\n",
        "# Female school completion rate in 2007 for those 20 countries\n",
        "female_completion = np.array([\n",
        "    97.35583,  104.62379,  103.02998,   95.14321,  103.69019,\n",
        "    98.49185,  100.88828,   95.43974,   92.11484,   91.54804,\n",
        "    95.98029,   98.22902,   96.12179,  119.28105,   97.84627,\n",
        "    29.07386,   38.41644,   90.70509,   51.7478 ,   95.45072\n",
        "])\n",
        "\n",
        "# Male school completion rate in 2007 for those 20 countries\n",
        "male_completion = np.array([\n",
        "     95.47622,  100.66476,   99.7926 ,   91.48936,  103.22096,\n",
        "     97.80458,  103.81398,   88.11736,   93.55611,   87.76347,\n",
        "    102.45714,   98.73953,   92.22388,  115.3892 ,   98.70502,\n",
        "     37.00692,   45.39401,   91.22084,   62.42028,   90.66958\n",
        "])\n",
        "\n",
        "def overall_completion_rate(female_completion, male_completion):\n",
        "    '''\n",
        "    Fill in this function to return a NumPy array containing the overall\n",
        "    school completion rate for each country. The arguments are NumPy\n",
        "    arrays giving the female and male completion of each country in\n",
        "    the same order.\n",
        "    '''\n",
        "    return (female_completion+male_completion)/2.0"
      ],
      "metadata": {
        "id": "g-DxtVwAe-06"
      },
      "execution_count": null,
      "outputs": []
    },
    {
      "cell_type": "code",
      "source": [
        "overall_completion_rate(female_completion, male_completion)"
      ],
      "metadata": {
        "colab": {
          "base_uri": "https://localhost:8080/"
        },
        "id": "oPC_RrabfYrF",
        "outputId": "2a450a3e-98c4-403f-a260-dc701922ff2d"
      },
      "execution_count": null,
      "outputs": [
        {
          "output_type": "execute_result",
          "data": {
            "text/plain": [
              "array([ 96.416025, 102.644275, 101.41129 ,  93.316285, 103.455575,\n",
              "        98.148215, 102.35113 ,  91.77855 ,  92.835475,  89.655755,\n",
              "        99.218715,  98.484275,  94.172835, 117.335125,  98.275645,\n",
              "        33.04039 ,  41.905225,  90.962965,  57.08404 ,  93.06015 ])"
            ]
          },
          "metadata": {},
          "execution_count": 5
        }
      ]
    },
    {
      "cell_type": "code",
      "source": [
        "# First 20 countries with employment data\n",
        "countries = np.array([\n",
        "    'Afghanistan', 'Albania', 'Algeria', 'Angola', 'Argentina',\n",
        "    'Armenia', 'Australia', 'Austria', 'Azerbaijan', 'Bahamas',\n",
        "    'Bahrain', 'Bangladesh', 'Barbados', 'Belarus', 'Belgium',\n",
        "    'Belize', 'Benin', 'Bhutan', 'Bolivia',\n",
        "    'Bosnia and Herzegovina'\n",
        "])\n",
        "\n",
        "# Employment data in 2007 for those 20 countries\n",
        "employment = np.array([\n",
        "    55.70000076,  51.40000153,  50.5       ,  75.69999695,\n",
        "    58.40000153,  40.09999847,  61.5       ,  57.09999847,\n",
        "    60.90000153,  66.59999847,  60.40000153,  68.09999847,\n",
        "    66.90000153,  53.40000153,  48.59999847,  56.79999924,\n",
        "    71.59999847,  58.40000153,  70.40000153,  41.20000076\n",
        "])\n",
        "\n",
        "# Change this country name to change what country will be printed when you\n",
        "# click \"Test Run\". Your function will be called to determine the standardized\n",
        "# score for this country for each of the given 5 Gapminder variables in 2007.\n",
        "# The possible country names are available in the Downloadables section.\n",
        "\n",
        "country_name = 'United States'\n",
        "\n",
        "def standardize_data(values):\n",
        "    '''\n",
        "    Fill in this function to return a standardized version of the given values,\n",
        "    which will be in a NumPy array. Each value should be translated into the\n",
        "    number of standard deviations that value is away from the mean of the data.\n",
        "    (A positive number indicates a value higher than the mean, and a negative\n",
        "    number indicates a value lower than the mean.)\n",
        "    '''\n",
        "    return (values - values.mean())/values.std()"
      ],
      "metadata": {
        "id": "0L7CJUCIfeqU"
      },
      "execution_count": null,
      "outputs": []
    },
    {
      "cell_type": "code",
      "source": [
        "standardize_data(employment)"
      ],
      "metadata": {
        "colab": {
          "base_uri": "https://localhost:8080/"
        },
        "id": "hpogUrQ2f6he",
        "outputId": "2ed20f11-c9f1-49b3-8a6b-bdad7106afb7"
      },
      "execution_count": null,
      "outputs": [
        {
          "output_type": "execute_result",
          "data": {
            "text/plain": [
              "array([-0.31965231, -0.780123  , -0.87650077,  1.82207181, -0.03051941,\n",
              "       -1.99019768,  0.30144772, -0.16973184,  0.23719615,  0.84758731,\n",
              "        0.18365304,  1.00821665,  0.87971351, -0.56595055, -1.07996476,\n",
              "       -0.20185762,  1.38301845, -0.03051941,  1.2545153 , -1.87240259])"
            ]
          },
          "metadata": {},
          "execution_count": 8
        }
      ]
    },
    {
      "cell_type": "code",
      "source": [
        "import numpy as np\n",
        "\n",
        "# Time spent in the classroom in the first week for 20 students\n",
        "time_spent = np.array([\n",
        "       12.89697233,    0.        ,   64.55043217,    0.        ,\n",
        "       24.2315615 ,   39.991625  ,    0.        ,    0.        ,\n",
        "      147.20683783,    0.        ,    0.        ,    0.        ,\n",
        "       45.18261617,  157.60454283,  133.2434615 ,   52.85000767,\n",
        "        0.        ,   54.9204785 ,   26.78142417,    0.\n",
        "])\n",
        "\n",
        "# Days to cancel for 20 students\n",
        "days_to_cancel = np.array([\n",
        "      4,   5,  37,   3,  12,   4,  35,  38,   5,  37,   3,   3,  68,\n",
        "     38,  98,   2, 249,   2, 127,  35\n",
        "])\n",
        "\n",
        "def mean_time_for_paid_students(time_spent, days_to_cancel):\n",
        "    '''\n",
        "    Fill in this function to calculate the mean time spent in the classroom\n",
        "    for students who stayed enrolled at least (greater than or equal to) 7 days.\n",
        "    Unlike in Lesson 1, you can assume that days_to_cancel will contain only\n",
        "    integers (there are no students who have not canceled yet).\n",
        "    \n",
        "    The arguments are NumPy arrays. time_spent contains the amount of time spent\n",
        "    in the classroom for each student, and days_to_cancel contains the number\n",
        "    of days until each student cancel. The data is given in the same order\n",
        "    in both arrays.\n",
        "    '''\n",
        "    return time_spent[days_to_cancel >= 7].mean()"
      ],
      "metadata": {
        "id": "PcvslcOjf8y2"
      },
      "execution_count": null,
      "outputs": []
    },
    {
      "cell_type": "code",
      "source": [
        "mean_time_for_paid_students(time_spent, days_to_cancel)"
      ],
      "metadata": {
        "colab": {
          "base_uri": "https://localhost:8080/"
        },
        "id": "J_ZHq97ngpHh",
        "outputId": "23663238-911b-4c42-ead4-be588bb8b43d"
      },
      "execution_count": null,
      "outputs": [
        {
          "output_type": "execute_result",
          "data": {
            "text/plain": [
              "41.05400348545454"
            ]
          },
          "metadata": {},
          "execution_count": 10
        }
      ]
    },
    {
      "cell_type": "markdown",
      "source": [
        "Difference b/w flatten and ravel"
      ],
      "metadata": {
        "id": "NOx71EwuQZdB"
      }
    },
    {
      "cell_type": "code",
      "source": [
        "arr4 = np.arange(1,5).reshape(2,2)\n",
        "arr4"
      ],
      "metadata": {
        "colab": {
          "base_uri": "https://localhost:8080/"
        },
        "id": "9-YIul-_gsFL",
        "outputId": "41b29fe7-0476-4c2f-f977-47db8eb3a9f8"
      },
      "execution_count": null,
      "outputs": [
        {
          "output_type": "execute_result",
          "data": {
            "text/plain": [
              "array([[1, 2],\n",
              "       [3, 4]])"
            ]
          },
          "metadata": {},
          "execution_count": 11
        }
      ]
    },
    {
      "cell_type": "code",
      "source": [
        "f = arr4.flatten()\n",
        "f"
      ],
      "metadata": {
        "colab": {
          "base_uri": "https://localhost:8080/"
        },
        "id": "rosqHxVePye9",
        "outputId": "42d3c407-aea1-4fd7-cb7e-73efa0922f92"
      },
      "execution_count": null,
      "outputs": [
        {
          "output_type": "execute_result",
          "data": {
            "text/plain": [
              "array([1, 2, 3, 4])"
            ]
          },
          "metadata": {},
          "execution_count": 12
        }
      ]
    },
    {
      "cell_type": "code",
      "source": [
        "f[0] = 0\n",
        "f"
      ],
      "metadata": {
        "colab": {
          "base_uri": "https://localhost:8080/"
        },
        "id": "WilrfUXBP4AM",
        "outputId": "2cbd08aa-5d57-4ce3-d3ba-b04c535a244d"
      },
      "execution_count": null,
      "outputs": [
        {
          "output_type": "execute_result",
          "data": {
            "text/plain": [
              "array([0, 2, 3, 4])"
            ]
          },
          "metadata": {},
          "execution_count": 16
        }
      ]
    },
    {
      "cell_type": "code",
      "source": [
        "r = arr4.ravel()\n",
        "r"
      ],
      "metadata": {
        "colab": {
          "base_uri": "https://localhost:8080/"
        },
        "id": "fHvOMmBxP1EL",
        "outputId": "ad52264f-10b4-444c-9e07-8d29f32694b5"
      },
      "execution_count": null,
      "outputs": [
        {
          "output_type": "execute_result",
          "data": {
            "text/plain": [
              "array([1, 2, 3, 4])"
            ]
          },
          "metadata": {},
          "execution_count": 13
        }
      ]
    },
    {
      "cell_type": "code",
      "source": [
        "r[0] =100\n",
        "r"
      ],
      "metadata": {
        "colab": {
          "base_uri": "https://localhost:8080/"
        },
        "id": "cB7fV9MHP2pU",
        "outputId": "1de70ac1-03a2-48d3-adc3-a89ca2024186"
      },
      "execution_count": null,
      "outputs": [
        {
          "output_type": "execute_result",
          "data": {
            "text/plain": [
              "array([100,   2,   3,   4])"
            ]
          },
          "metadata": {},
          "execution_count": 15
        }
      ]
    },
    {
      "cell_type": "code",
      "source": [
        "arr4"
      ],
      "metadata": {
        "colab": {
          "base_uri": "https://localhost:8080/"
        },
        "id": "jY0rH01oQSmr",
        "outputId": "849c768c-79e1-473f-d6ae-64b44f7db840"
      },
      "execution_count": null,
      "outputs": [
        {
          "output_type": "execute_result",
          "data": {
            "text/plain": [
              "array([[100,   2],\n",
              "       [  3,   4]])"
            ]
          },
          "metadata": {},
          "execution_count": 17
        }
      ]
    },
    {
      "cell_type": "code",
      "source": [
        ""
      ],
      "metadata": {
        "id": "033wjabSQTbD"
      },
      "execution_count": null,
      "outputs": []
    }
  ]
}